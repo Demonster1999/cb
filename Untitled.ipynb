{
 "cells": [
  {
   "cell_type": "code",
   "execution_count": 1,
   "metadata": {},
   "outputs": [],
   "source": [
    "import pandas as pd\n",
    "import numpy as np \n",
    " \n",
    "import sqlite3\n"
   ]
  },
  {
   "cell_type": "code",
   "execution_count": 2,
   "metadata": {},
   "outputs": [],
   "source": [
    "con=sqlite3.connect('db.sqlite3')"
   ]
  },
  {
   "cell_type": "code",
   "execution_count": 3,
   "metadata": {},
   "outputs": [],
   "source": [
    "data_query = \"select PatientNumber, AgeBracket,Gender,DetectedState,DetectedCity,DetectedDistrict from model_coviddata\""
   ]
  },
  {
   "cell_type": "code",
   "execution_count": null,
   "metadata": {},
   "outputs": [],
   "source": [
    "df = pd.read_sql_query(data_query,con)"
   ]
  },
  {
   "cell_type": "code",
   "execution_count": null,
   "metadata": {},
   "outputs": [],
   "source": [
    "df"
   ]
  },
  {
   "cell_type": "code",
   "execution_count": null,
   "metadata": {},
   "outputs": [],
   "source": [
    "df['Gender'].unique()"
   ]
  },
  {
   "cell_type": "code",
   "execution_count": null,
   "metadata": {},
   "outputs": [],
   "source": [
    "array = np.array(df)\n"
   ]
  },
  {
   "cell_type": "code",
   "execution_count": null,
   "metadata": {},
   "outputs": [],
   "source": [
    "array"
   ]
  },
  {
   "cell_type": "code",
   "execution_count": null,
   "metadata": {
    "tags": [
     "outputPrepend",
     "outputPrepend",
     "outputPrepend",
     "outputPrepend",
     "outputPrepend"
    ]
   },
   "outputs": [],
   "source": [
    "for i in array:\n",
    "     print(i) "
   ]
  },
  {
   "cell_type": "code",
   "execution_count": null,
   "metadata": {},
   "outputs": [],
   "source": [
    "for i in range(len(array)):\n",
    "    for j in range(len(array[i])):\n",
    "        if array[i][j]==\"\":\n",
    "            array[i][j]=None"
   ]
  },
  {
   "cell_type": "code",
   "execution_count": null,
   "metadata": {},
   "outputs": [],
   "source": [
    "array"
   ]
  },
  {
   "cell_type": "code",
   "execution_count": null,
   "metadata": {},
   "outputs": [],
   "source": [
    "df = pd.DataFrame(array)"
   ]
  },
  {
   "cell_type": "code",
   "execution_count": null,
   "metadata": {},
   "outputs": [],
   "source": [
    "df"
   ]
  },
  {
   "cell_type": "code",
   "execution_count": null,
   "metadata": {},
   "outputs": [],
   "source": [
    "df.isna()"
   ]
  },
  {
   "cell_type": "code",
   "execution_count": null,
   "metadata": {},
   "outputs": [],
   "source": [
    "df.dropna()"
   ]
  },
  {
   "cell_type": "code",
   "execution_count": null,
   "metadata": {},
   "outputs": [],
   "source": [
    "headers = ['PatientNumber', 'AgeBracket','Gender','DetectedState','DetectedCity','DetectedDistrict']"
   ]
  },
  {
   "cell_type": "code",
   "execution_count": null,
   "metadata": {},
   "outputs": [],
   "source": [
    "df.columns = headers"
   ]
  },
  {
   "cell_type": "code",
   "execution_count": null,
   "metadata": {},
   "outputs": [],
   "source": [
    "df"
   ]
  },
  {
   "cell_type": "code",
   "execution_count": null,
   "metadata": {},
   "outputs": [],
   "source": [
    "type(df)"
   ]
  },
  {
   "cell_type": "code",
   "execution_count": null,
   "metadata": {},
   "outputs": [],
   "source": [
    "df['DetectedCity'].unique()"
   ]
  },
  {
   "cell_type": "code",
   "execution_count": null,
   "metadata": {
    "tags": [
     "outputPrepend",
     "outputPrepend"
    ]
   },
   "outputs": [],
   "source": [
    "count = 0\n",
    "for i in df['DetectedCity'].unique():\n",
    "    count +=1\n",
    "    print(i)"
   ]
  },
  {
   "cell_type": "code",
   "execution_count": null,
   "metadata": {},
   "outputs": [],
   "source": [
    "print(count)"
   ]
  },
  {
   "cell_type": "code",
   "execution_count": null,
   "metadata": {
    "tags": [
     "outputPrepend",
     "outputPrepend",
     "outputPrepend"
    ]
   },
   "outputs": [],
   "source": [
    "count = 0\n",
    "for i in df['PatientNumber'].dropna():\n",
    "    count +=1\n",
    "    print(i)"
   ]
  },
  {
   "cell_type": "code",
   "execution_count": null,
   "metadata": {},
   "outputs": [],
   "source": [
    "count"
   ]
  },
  {
   "cell_type": "code",
   "execution_count": null,
   "metadata": {
    "tags": [
     "outputPrepend",
     "outputPrepend"
    ]
   },
   "outputs": [],
   "source": [
    "count = 0\n",
    "for i in df['Gender'].dropna():\n",
    "    count +=1\n",
    "    print(i)\n"
   ]
  },
  {
   "cell_type": "code",
   "execution_count": null,
   "metadata": {},
   "outputs": [],
   "source": [
    "count"
   ]
  },
  {
   "cell_type": "code",
   "execution_count": null,
   "metadata": {},
   "outputs": [],
   "source": []
  },
  {
   "cell_type": "code",
   "execution_count": null,
   "metadata": {},
   "outputs": [],
   "source": [
    "df = df[df['PatientNumber'].notna()]"
   ]
  },
  {
   "cell_type": "code",
   "execution_count": null,
   "metadata": {},
   "outputs": [],
   "source": [
    "df"
   ]
  },
  {
   "cell_type": "code",
   "execution_count": null,
   "metadata": {},
   "outputs": [],
   "source": [
    "df['DetectedState'].unique()"
   ]
  },
  {
   "cell_type": "code",
   "execution_count": null,
   "metadata": {},
   "outputs": [],
   "source": [
    "df['DetectedDistrict'].unique()"
   ]
  },
  {
   "cell_type": "code",
   "execution_count": null,
   "metadata": {},
   "outputs": [],
   "source": [
    "df2= df[['DetectedState','DetectedDistrict','Gender']]"
   ]
  },
  {
   "cell_type": "code",
   "execution_count": null,
   "metadata": {},
   "outputs": [],
   "source": [
    "df3=pd.DataFrame(df2.groupby('Gender').count())"
   ]
  },
  {
   "cell_type": "code",
   "execution_count": null,
   "metadata": {},
   "outputs": [],
   "source": [
    "df3"
   ]
  },
  {
   "cell_type": "code",
   "execution_count": null,
   "metadata": {},
   "outputs": [],
   "source": [
    " df2.plot()"
   ]
  },
  {
   "cell_type": "code",
   "execution_count": null,
   "metadata": {},
   "outputs": [],
   "source": [
    "df2['male'] = df.groupby(['DetectedDistrict'])['Gender'].transform('unique')"
   ]
  },
  {
   "cell_type": "code",
   "execution_count": null,
   "metadata": {},
   "outputs": [],
   "source": [
    "df2"
   ]
  },
  {
   "cell_type": "code",
   "execution_count": 4,
   "metadata": {},
   "outputs": [],
   "source": [
    "query = \"select DetectedState,count(gender) from model_coviddata where gender like 'M' group by DetectedDistrict ;\""
   ]
  },
  {
   "cell_type": "code",
   "execution_count": null,
   "metadata": {},
   "outputs": [],
   "source": []
  },
  {
   "cell_type": "code",
   "execution_count": 5,
   "metadata": {},
   "outputs": [],
   "source": [
    "c = con.cursor()"
   ]
  },
  {
   "cell_type": "code",
   "execution_count": 6,
   "metadata": {},
   "outputs": [
    {
     "data": {
      "text/plain": [
       "<sqlite3.Cursor at 0x7f5d85adbea0>"
      ]
     },
     "execution_count": 6,
     "metadata": {},
     "output_type": "execute_result"
    }
   ],
   "source": [
    "c.execute(query)"
   ]
  },
  {
   "cell_type": "code",
   "execution_count": 7,
   "metadata": {},
   "outputs": [
    {
     "name": "stdout",
     "output_type": "stream",
     "text": [
      "('Assam', 1)\n",
      "('Gujarat', 376)\n",
      "('Punjab', 2)\n",
      "('Gujarat', 2)\n",
      "('Gujarat', 10)\n",
      "('Tamil Nadu', 2)\n",
      "('Bihar', 4)\n",
      "('Bihar', 2)\n",
      "('Karnataka', 3)\n",
      "('Odisha', 5)\n",
      "('Gujarat', 5)\n",
      "('Bihar', 2)\n",
      "('Karnataka', 5)\n",
      "('Karnataka', 37)\n",
      "('Odisha', 13)\n",
      "('Bihar', 3)\n",
      "('Gujarat', 6)\n",
      "('Gujarat', 1)\n",
      "('Karnataka', 1)\n",
      "('Gujarat', 4)\n",
      "('Bihar', 10)\n",
      "('Chandigarh', 3)\n",
      "('Tamil Nadu', 101)\n",
      "('Gujarat', 4)\n",
      "('Karnataka', 2)\n",
      "('Tamil Nadu', 3)\n",
      "('Tamil Nadu', 1)\n",
      "('Tamil Nadu', 3)\n",
      "('Bihar', 4)\n",
      "('Karnataka', 1)\n",
      "('Gujarat', 1)\n",
      "('Bihar', 1)\n",
      "('Gujarat', 1)\n",
      "('Bihar', 7)\n",
      "('Kerala', 2)\n",
      "('Odisha', 13)\n",
      "('Bihar', 1)\n",
      "('Bihar', 10)\n",
      "('Karnataka', 11)\n",
      "('Tamil Nadu', 5)\n",
      "('Kerala', 20)\n",
      "('Kerala', 3)\n",
      "('Gujarat', 2)\n",
      "('Kerala', 2)\n",
      "('Kerala', 3)\n",
      "('Kerala', 3)\n",
      "('Gujarat', 2)\n",
      "('Tamil Nadu', 22)\n",
      "('Gujarat', 3)\n",
      "('Kerala', 1)\n",
      "('Karnataka', 3)\n",
      "('Gujarat', 1)\n",
      "('Bihar', 18)\n",
      "('Karnataka', 4)\n",
      "('Bihar', 12)\n",
      "('Tamil Nadu', 5)\n",
      "('Gujarat', 1)\n",
      "('Kerala', 4)\n",
      "('Bihar', 14)\n",
      "('Tamil Nadu', 2)\n",
      "('Puducherry', 1)\n",
      "('Gujarat', 1)\n",
      "('Tamil Nadu', 2)\n",
      "('Bihar', 11)\n",
      "('Punjab', 1)\n",
      "('Gujarat', 1)\n",
      "('Tamil Nadu', 5)\n",
      "('Bihar', 1)\n",
      "('Bihar', 1)\n",
      "('Odisha', 3)\n",
      "('Gujarat', 146)\n",
      "('Tamil Nadu', 2)\n",
      "('Tamil Nadu', 3)\n",
      "('Tamil Nadu', 3)\n",
      "('Tamil Nadu', 1)\n",
      "('Tamil Nadu', 1)\n",
      "('Tamil Nadu', 1)\n",
      "('Tamil Nadu', 2)\n",
      "('Tamil Nadu', 3)\n",
      "('Karnataka', 1)\n",
      "('Gujarat', 19)\n",
      "('Gujarat', 3)\n",
      "('Karnataka', 7)\n",
      "('Tamil Nadu', 3)\n",
      "('Tamil Nadu', 9)\n"
     ]
    }
   ],
   "source": [
    "for i in c:\n",
    "    print(i)"
   ]
  },
  {
   "cell_type": "code",
   "execution_count": 8,
   "metadata": {},
   "outputs": [],
   "source": [
    "\n",
    "# query to get the Count of male patients \n",
    "query = \"select DISTINCT DetectedState,DetectedDistrict,count(Gender) as maleCount from model_coviddata where Gender ='M' group by DetectedDistrict ;\""
   ]
  },
  {
   "cell_type": "code",
   "execution_count": 9,
   "metadata": {},
   "outputs": [],
   "source": [
    "male_df = pd.read_sql_query(query,con)\n"
   ]
  },
  {
   "cell_type": "code",
   "execution_count": 10,
   "metadata": {},
   "outputs": [
    {
     "data": {
      "text/html": [
       "<div>\n",
       "<style scoped>\n",
       "    .dataframe tbody tr th:only-of-type {\n",
       "        vertical-align: middle;\n",
       "    }\n",
       "\n",
       "    .dataframe tbody tr th {\n",
       "        vertical-align: top;\n",
       "    }\n",
       "\n",
       "    .dataframe thead th {\n",
       "        text-align: right;\n",
       "    }\n",
       "</style>\n",
       "<table border=\"1\" class=\"dataframe\">\n",
       "  <thead>\n",
       "    <tr style=\"text-align: right;\">\n",
       "      <th></th>\n",
       "      <th>DetectedState</th>\n",
       "      <th>DetectedDistrict</th>\n",
       "      <th>maleCount</th>\n",
       "    </tr>\n",
       "  </thead>\n",
       "  <tbody>\n",
       "    <tr>\n",
       "      <th>0</th>\n",
       "      <td>Assam</td>\n",
       "      <td></td>\n",
       "      <td>1</td>\n",
       "    </tr>\n",
       "    <tr>\n",
       "      <th>1</th>\n",
       "      <td>Gujarat</td>\n",
       "      <td>Ahmedabad</td>\n",
       "      <td>376</td>\n",
       "    </tr>\n",
       "    <tr>\n",
       "      <th>2</th>\n",
       "      <td>Punjab</td>\n",
       "      <td>Amritsar</td>\n",
       "      <td>2</td>\n",
       "    </tr>\n",
       "    <tr>\n",
       "      <th>3</th>\n",
       "      <td>Gujarat</td>\n",
       "      <td>Anand</td>\n",
       "      <td>2</td>\n",
       "    </tr>\n",
       "    <tr>\n",
       "      <th>4</th>\n",
       "      <td>Gujarat</td>\n",
       "      <td>Aravalli</td>\n",
       "      <td>10</td>\n",
       "    </tr>\n",
       "    <tr>\n",
       "      <th>...</th>\n",
       "      <td>...</td>\n",
       "      <td>...</td>\n",
       "      <td>...</td>\n",
       "    </tr>\n",
       "    <tr>\n",
       "      <th>80</th>\n",
       "      <td>Gujarat</td>\n",
       "      <td>Vadodara</td>\n",
       "      <td>19</td>\n",
       "    </tr>\n",
       "    <tr>\n",
       "      <th>81</th>\n",
       "      <td>Gujarat</td>\n",
       "      <td>Valsad</td>\n",
       "      <td>3</td>\n",
       "    </tr>\n",
       "    <tr>\n",
       "      <th>82</th>\n",
       "      <td>Karnataka</td>\n",
       "      <td>Vijayapura</td>\n",
       "      <td>7</td>\n",
       "    </tr>\n",
       "    <tr>\n",
       "      <th>83</th>\n",
       "      <td>Tamil Nadu</td>\n",
       "      <td>Viluppuram</td>\n",
       "      <td>3</td>\n",
       "    </tr>\n",
       "    <tr>\n",
       "      <th>84</th>\n",
       "      <td>Tamil Nadu</td>\n",
       "      <td>Virudhunagar</td>\n",
       "      <td>9</td>\n",
       "    </tr>\n",
       "  </tbody>\n",
       "</table>\n",
       "<p>85 rows × 3 columns</p>\n",
       "</div>"
      ],
      "text/plain": [
       "   DetectedState DetectedDistrict  maleCount\n",
       "0          Assam                           1\n",
       "1        Gujarat        Ahmedabad        376\n",
       "2         Punjab         Amritsar          2\n",
       "3        Gujarat            Anand          2\n",
       "4        Gujarat         Aravalli         10\n",
       "..           ...              ...        ...\n",
       "80       Gujarat         Vadodara         19\n",
       "81       Gujarat           Valsad          3\n",
       "82     Karnataka       Vijayapura          7\n",
       "83    Tamil Nadu       Viluppuram          3\n",
       "84    Tamil Nadu     Virudhunagar          9\n",
       "\n",
       "[85 rows x 3 columns]"
      ]
     },
     "execution_count": 10,
     "metadata": {},
     "output_type": "execute_result"
    }
   ],
   "source": [
    "male_df"
   ]
  },
  {
   "cell_type": "code",
   "execution_count": 11,
   "metadata": {},
   "outputs": [],
   "source": [
    "query_f =  \"select DISTINCT DetectedState,DetectedDistrict,count(Gender) as FemaleCount from model_coviddata where Gender ='F' group by DetectedDistrict ;\""
   ]
  },
  {
   "cell_type": "code",
   "execution_count": 12,
   "metadata": {},
   "outputs": [],
   "source": [
    "female_df = pd.read_sql_query(query_f,con)"
   ]
  },
  {
   "cell_type": "code",
   "execution_count": 13,
   "metadata": {},
   "outputs": [
    {
     "data": {
      "text/html": [
       "<div>\n",
       "<style scoped>\n",
       "    .dataframe tbody tr th:only-of-type {\n",
       "        vertical-align: middle;\n",
       "    }\n",
       "\n",
       "    .dataframe tbody tr th {\n",
       "        vertical-align: top;\n",
       "    }\n",
       "\n",
       "    .dataframe thead th {\n",
       "        text-align: right;\n",
       "    }\n",
       "</style>\n",
       "<table border=\"1\" class=\"dataframe\">\n",
       "  <thead>\n",
       "    <tr style=\"text-align: right;\">\n",
       "      <th></th>\n",
       "      <th>DetectedState</th>\n",
       "      <th>DetectedDistrict</th>\n",
       "      <th>FemaleCount</th>\n",
       "    </tr>\n",
       "  </thead>\n",
       "  <tbody>\n",
       "    <tr>\n",
       "      <th>0</th>\n",
       "      <td>Gujarat</td>\n",
       "      <td>Ahmedabad</td>\n",
       "      <td>175</td>\n",
       "    </tr>\n",
       "    <tr>\n",
       "      <th>1</th>\n",
       "      <td>Gujarat</td>\n",
       "      <td>Anand</td>\n",
       "      <td>3</td>\n",
       "    </tr>\n",
       "    <tr>\n",
       "      <th>2</th>\n",
       "      <td>Gujarat</td>\n",
       "      <td>Aravalli</td>\n",
       "      <td>7</td>\n",
       "    </tr>\n",
       "    <tr>\n",
       "      <th>3</th>\n",
       "      <td>Odisha</td>\n",
       "      <td>Balasore</td>\n",
       "      <td>4</td>\n",
       "    </tr>\n",
       "    <tr>\n",
       "      <th>4</th>\n",
       "      <td>Gujarat</td>\n",
       "      <td>Banaskantha</td>\n",
       "      <td>1</td>\n",
       "    </tr>\n",
       "    <tr>\n",
       "      <th>...</th>\n",
       "      <td>...</td>\n",
       "      <td>...</td>\n",
       "      <td>...</td>\n",
       "    </tr>\n",
       "    <tr>\n",
       "      <th>58</th>\n",
       "      <td>Bihar</td>\n",
       "      <td>Vaishali</td>\n",
       "      <td>1</td>\n",
       "    </tr>\n",
       "    <tr>\n",
       "      <th>59</th>\n",
       "      <td>Gujarat</td>\n",
       "      <td>Valsad</td>\n",
       "      <td>1</td>\n",
       "    </tr>\n",
       "    <tr>\n",
       "      <th>60</th>\n",
       "      <td>Karnataka</td>\n",
       "      <td>Vijayapura</td>\n",
       "      <td>11</td>\n",
       "    </tr>\n",
       "    <tr>\n",
       "      <th>61</th>\n",
       "      <td>Tamil Nadu</td>\n",
       "      <td>Viluppuram</td>\n",
       "      <td>4</td>\n",
       "    </tr>\n",
       "    <tr>\n",
       "      <th>62</th>\n",
       "      <td>Tamil Nadu</td>\n",
       "      <td>Virudhunagar</td>\n",
       "      <td>4</td>\n",
       "    </tr>\n",
       "  </tbody>\n",
       "</table>\n",
       "<p>63 rows × 3 columns</p>\n",
       "</div>"
      ],
      "text/plain": [
       "   DetectedState DetectedDistrict  FemaleCount\n",
       "0        Gujarat        Ahmedabad          175\n",
       "1        Gujarat            Anand            3\n",
       "2        Gujarat         Aravalli            7\n",
       "3         Odisha         Balasore            4\n",
       "4        Gujarat      Banaskantha            1\n",
       "..           ...              ...          ...\n",
       "58         Bihar         Vaishali            1\n",
       "59       Gujarat           Valsad            1\n",
       "60     Karnataka       Vijayapura           11\n",
       "61    Tamil Nadu       Viluppuram            4\n",
       "62    Tamil Nadu     Virudhunagar            4\n",
       "\n",
       "[63 rows x 3 columns]"
      ]
     },
     "execution_count": 13,
     "metadata": {},
     "output_type": "execute_result"
    }
   ],
   "source": [
    "female_df"
   ]
  },
  {
   "cell_type": "code",
   "execution_count": 14,
   "metadata": {},
   "outputs": [
    {
     "data": {
      "text/plain": [
       "63"
      ]
     },
     "execution_count": 14,
     "metadata": {},
     "output_type": "execute_result"
    }
   ],
   "source": [
    "district_female = tuple(female_df['DetectedDistrict'])\n",
    "len(district_female)\n"
   ]
  },
  {
   "cell_type": "code",
   "execution_count": 15,
   "metadata": {},
   "outputs": [],
   "source": [
    "distric_male =tuple( male_df['DetectedDistrict'].unique())"
   ]
  },
  {
   "cell_type": "code",
   "execution_count": 16,
   "metadata": {},
   "outputs": [
    {
     "data": {
      "text/plain": [
       "85"
      ]
     },
     "execution_count": 16,
     "metadata": {},
     "output_type": "execute_result"
    }
   ],
   "source": [
    "len(distric_male)\n"
   ]
  },
  {
   "cell_type": "code",
   "execution_count": 17,
   "metadata": {},
   "outputs": [
    {
     "name": "stdout",
     "output_type": "stream",
     "text": [
      "\n",
      "Amritsar\n",
      "Ariyalur\n",
      "Arwal\n",
      "Aurangabad\n",
      "Bagalkote\n",
      "Banka\n",
      "Bhadrak\n",
      "Bharuch\n",
      "Bhavnagar\n",
      "Bidar\n",
      "Chhota Udaipur\n",
      "Chikkaballapura\n",
      "Dharmapuri\n",
      "Dindigul\n",
      "East Champaran\n",
      "Gadag\n",
      "Gandhinagar\n",
      "Gaya\n",
      "Gir Somnath\n",
      "Jehanabad\n",
      "Kozhikode\n",
      "Kutch\n",
      "Navsari\n",
      "Palakkad\n",
      "Perambalur\n",
      "Puducherry\n",
      "S.A.S. Nagar\n",
      "Sabarkantha\n",
      "Siwan\n",
      "Thiruvarur\n",
      "Tiruchirappalli\n",
      "Tirunelveli\n",
      "Tiruvannamalai\n",
      "Tumakuru\n"
     ]
    }
   ],
   "source": [
    "for i in range(len(distric_male)):\n",
    "    if distric_male[i] in  district_female:\n",
    "      pass  \n",
    "    else:\n",
    "        print(distric_male[i])\n",
    "        \n",
    "    "
   ]
  },
  {
   "cell_type": "code",
   "execution_count": 18,
   "metadata": {},
   "outputs": [
    {
     "data": {
      "text/plain": [
       "False"
      ]
     },
     "execution_count": 18,
     "metadata": {},
     "output_type": "execute_result"
    }
   ],
   "source": [
    "district_female in distric_male"
   ]
  },
  {
   "cell_type": "code",
   "execution_count": 19,
   "metadata": {},
   "outputs": [
    {
     "name": "stdout",
     "output_type": "stream",
     "text": [
      "Bhojpur\n",
      "Chengalpattu\n",
      "Dahod\n",
      "Dakshina Kannada\n",
      "Dangs\n",
      "Dharwad\n",
      "Kallakurichi\n",
      "Madhepura\n",
      "Panchmahal\n",
      "Ranchi\n",
      "Tapi\n",
      "Tirupathur\n",
      "Vaishali\n"
     ]
    }
   ],
   "source": [
    "for i in range(len(district_female)):\n",
    "    if district_female[i] in  distric_male:\n",
    "      pass  \n",
    "    else:\n",
    "        print(district_female[i])\n",
    "        "
   ]
  },
  {
   "cell_type": "code",
   "execution_count": 24,
   "metadata": {},
   "outputs": [
    {
     "name": "stderr",
     "output_type": "stream",
     "text": [
      "<ipython-input-24-4851fa2e35b8>:1: FutureWarning: Sorting because non-concatenation axis is not aligned. A future version\n",
      "of pandas will change to not sort by default.\n",
      "\n",
      "To accept the future behavior, pass 'sort=False'.\n",
      "\n",
      "To retain the current behavior and silence the warning, pass 'sort=True'.\n",
      "\n",
      "  result = pd.concat([female_df, male_df], axis=1, join='outer')\n"
     ]
    }
   ],
   "source": [
    "result = pd.concat([female_df, male_df], axis=1, join='outer')"
   ]
  },
  {
   "cell_type": "code",
   "execution_count": 25,
   "metadata": {},
   "outputs": [],
   "source": [
    "result=result.reset_index()"
   ]
  },
  {
   "cell_type": "code",
   "execution_count": 21,
   "metadata": {},
   "outputs": [],
   "source": [
    "male_df = male_df.set_index('DetectedDistrict')"
   ]
  },
  {
   "cell_type": "code",
   "execution_count": 22,
   "metadata": {},
   "outputs": [],
   "source": [
    "female_df = female_df.set_index('DetectedDistrict')"
   ]
  },
  {
   "cell_type": "code",
   "execution_count": null,
   "metadata": {},
   "outputs": [],
   "source": [
    "male_df"
   ]
  },
  {
   "cell_type": "code",
   "execution_count": 21,
   "metadata": {},
   "outputs": [
    {
     "data": {
      "text/html": [
       "<div>\n",
       "<style scoped>\n",
       "    .dataframe tbody tr th:only-of-type {\n",
       "        vertical-align: middle;\n",
       "    }\n",
       "\n",
       "    .dataframe tbody tr th {\n",
       "        vertical-align: top;\n",
       "    }\n",
       "\n",
       "    .dataframe thead th {\n",
       "        text-align: right;\n",
       "    }\n",
       "</style>\n",
       "<table border=\"1\" class=\"dataframe\">\n",
       "  <thead>\n",
       "    <tr style=\"text-align: right;\">\n",
       "      <th></th>\n",
       "      <th>index</th>\n",
       "      <th>DetectedState</th>\n",
       "      <th>FemaleCount</th>\n",
       "      <th>DetectedState</th>\n",
       "      <th>maleCount</th>\n",
       "    </tr>\n",
       "  </thead>\n",
       "  <tbody>\n",
       "    <tr>\n",
       "      <th>0</th>\n",
       "      <td></td>\n",
       "      <td>NaN</td>\n",
       "      <td>NaN</td>\n",
       "      <td>Assam</td>\n",
       "      <td>1.0</td>\n",
       "    </tr>\n",
       "    <tr>\n",
       "      <th>1</th>\n",
       "      <td>Ahmedabad</td>\n",
       "      <td>Gujarat</td>\n",
       "      <td>175.0</td>\n",
       "      <td>Gujarat</td>\n",
       "      <td>376.0</td>\n",
       "    </tr>\n",
       "    <tr>\n",
       "      <th>2</th>\n",
       "      <td>Amritsar</td>\n",
       "      <td>NaN</td>\n",
       "      <td>NaN</td>\n",
       "      <td>Punjab</td>\n",
       "      <td>2.0</td>\n",
       "    </tr>\n",
       "    <tr>\n",
       "      <th>3</th>\n",
       "      <td>Anand</td>\n",
       "      <td>Gujarat</td>\n",
       "      <td>3.0</td>\n",
       "      <td>Gujarat</td>\n",
       "      <td>2.0</td>\n",
       "    </tr>\n",
       "    <tr>\n",
       "      <th>4</th>\n",
       "      <td>Aravalli</td>\n",
       "      <td>Gujarat</td>\n",
       "      <td>7.0</td>\n",
       "      <td>Gujarat</td>\n",
       "      <td>10.0</td>\n",
       "    </tr>\n",
       "    <tr>\n",
       "      <th>...</th>\n",
       "      <td>...</td>\n",
       "      <td>...</td>\n",
       "      <td>...</td>\n",
       "      <td>...</td>\n",
       "      <td>...</td>\n",
       "    </tr>\n",
       "    <tr>\n",
       "      <th>93</th>\n",
       "      <td>Vaishali</td>\n",
       "      <td>Bihar</td>\n",
       "      <td>1.0</td>\n",
       "      <td>NaN</td>\n",
       "      <td>NaN</td>\n",
       "    </tr>\n",
       "    <tr>\n",
       "      <th>94</th>\n",
       "      <td>Valsad</td>\n",
       "      <td>Gujarat</td>\n",
       "      <td>1.0</td>\n",
       "      <td>Gujarat</td>\n",
       "      <td>3.0</td>\n",
       "    </tr>\n",
       "    <tr>\n",
       "      <th>95</th>\n",
       "      <td>Vijayapura</td>\n",
       "      <td>Karnataka</td>\n",
       "      <td>11.0</td>\n",
       "      <td>Karnataka</td>\n",
       "      <td>7.0</td>\n",
       "    </tr>\n",
       "    <tr>\n",
       "      <th>96</th>\n",
       "      <td>Viluppuram</td>\n",
       "      <td>Tamil Nadu</td>\n",
       "      <td>4.0</td>\n",
       "      <td>Tamil Nadu</td>\n",
       "      <td>3.0</td>\n",
       "    </tr>\n",
       "    <tr>\n",
       "      <th>97</th>\n",
       "      <td>Virudhunagar</td>\n",
       "      <td>Tamil Nadu</td>\n",
       "      <td>4.0</td>\n",
       "      <td>Tamil Nadu</td>\n",
       "      <td>9.0</td>\n",
       "    </tr>\n",
       "  </tbody>\n",
       "</table>\n",
       "<p>98 rows × 5 columns</p>\n",
       "</div>"
      ],
      "text/plain": [
       "           index DetectedState  FemaleCount DetectedState  maleCount\n",
       "0                          NaN          NaN         Assam        1.0\n",
       "1      Ahmedabad       Gujarat        175.0       Gujarat      376.0\n",
       "2       Amritsar           NaN          NaN        Punjab        2.0\n",
       "3          Anand       Gujarat          3.0       Gujarat        2.0\n",
       "4       Aravalli       Gujarat          7.0       Gujarat       10.0\n",
       "..           ...           ...          ...           ...        ...\n",
       "93      Vaishali         Bihar          1.0           NaN        NaN\n",
       "94        Valsad       Gujarat          1.0       Gujarat        3.0\n",
       "95    Vijayapura     Karnataka         11.0     Karnataka        7.0\n",
       "96    Viluppuram    Tamil Nadu          4.0    Tamil Nadu        3.0\n",
       "97  Virudhunagar    Tamil Nadu          4.0    Tamil Nadu        9.0\n",
       "\n",
       "[98 rows x 5 columns]"
      ]
     },
     "execution_count": 21,
     "metadata": {},
     "output_type": "execute_result"
    }
   ],
   "source": [
    "result"
   ]
  },
  {
   "cell_type": "code",
   "execution_count": 26,
   "metadata": {},
   "outputs": [],
   "source": [
    "result.columns = [\"DetectedCity\",'DetectedState','F','DS','M']"
   ]
  },
  {
   "cell_type": "code",
   "execution_count": 27,
   "metadata": {},
   "outputs": [
    {
     "data": {
      "text/html": [
       "<div>\n",
       "<style scoped>\n",
       "    .dataframe tbody tr th:only-of-type {\n",
       "        vertical-align: middle;\n",
       "    }\n",
       "\n",
       "    .dataframe tbody tr th {\n",
       "        vertical-align: top;\n",
       "    }\n",
       "\n",
       "    .dataframe thead th {\n",
       "        text-align: right;\n",
       "    }\n",
       "</style>\n",
       "<table border=\"1\" class=\"dataframe\">\n",
       "  <thead>\n",
       "    <tr style=\"text-align: right;\">\n",
       "      <th></th>\n",
       "      <th>DetectedCity</th>\n",
       "      <th>DetectedState</th>\n",
       "      <th>F</th>\n",
       "      <th>DS</th>\n",
       "      <th>M</th>\n",
       "    </tr>\n",
       "  </thead>\n",
       "  <tbody>\n",
       "    <tr>\n",
       "      <th>0</th>\n",
       "      <td></td>\n",
       "      <td>NaN</td>\n",
       "      <td>NaN</td>\n",
       "      <td>Assam</td>\n",
       "      <td>1.0</td>\n",
       "    </tr>\n",
       "    <tr>\n",
       "      <th>1</th>\n",
       "      <td>Ahmedabad</td>\n",
       "      <td>Gujarat</td>\n",
       "      <td>175.0</td>\n",
       "      <td>Gujarat</td>\n",
       "      <td>376.0</td>\n",
       "    </tr>\n",
       "    <tr>\n",
       "      <th>2</th>\n",
       "      <td>Amritsar</td>\n",
       "      <td>NaN</td>\n",
       "      <td>NaN</td>\n",
       "      <td>Punjab</td>\n",
       "      <td>2.0</td>\n",
       "    </tr>\n",
       "    <tr>\n",
       "      <th>3</th>\n",
       "      <td>Anand</td>\n",
       "      <td>Gujarat</td>\n",
       "      <td>3.0</td>\n",
       "      <td>Gujarat</td>\n",
       "      <td>2.0</td>\n",
       "    </tr>\n",
       "    <tr>\n",
       "      <th>4</th>\n",
       "      <td>Aravalli</td>\n",
       "      <td>Gujarat</td>\n",
       "      <td>7.0</td>\n",
       "      <td>Gujarat</td>\n",
       "      <td>10.0</td>\n",
       "    </tr>\n",
       "    <tr>\n",
       "      <th>...</th>\n",
       "      <td>...</td>\n",
       "      <td>...</td>\n",
       "      <td>...</td>\n",
       "      <td>...</td>\n",
       "      <td>...</td>\n",
       "    </tr>\n",
       "    <tr>\n",
       "      <th>93</th>\n",
       "      <td>Vaishali</td>\n",
       "      <td>Bihar</td>\n",
       "      <td>1.0</td>\n",
       "      <td>NaN</td>\n",
       "      <td>NaN</td>\n",
       "    </tr>\n",
       "    <tr>\n",
       "      <th>94</th>\n",
       "      <td>Valsad</td>\n",
       "      <td>Gujarat</td>\n",
       "      <td>1.0</td>\n",
       "      <td>Gujarat</td>\n",
       "      <td>3.0</td>\n",
       "    </tr>\n",
       "    <tr>\n",
       "      <th>95</th>\n",
       "      <td>Vijayapura</td>\n",
       "      <td>Karnataka</td>\n",
       "      <td>11.0</td>\n",
       "      <td>Karnataka</td>\n",
       "      <td>7.0</td>\n",
       "    </tr>\n",
       "    <tr>\n",
       "      <th>96</th>\n",
       "      <td>Viluppuram</td>\n",
       "      <td>Tamil Nadu</td>\n",
       "      <td>4.0</td>\n",
       "      <td>Tamil Nadu</td>\n",
       "      <td>3.0</td>\n",
       "    </tr>\n",
       "    <tr>\n",
       "      <th>97</th>\n",
       "      <td>Virudhunagar</td>\n",
       "      <td>Tamil Nadu</td>\n",
       "      <td>4.0</td>\n",
       "      <td>Tamil Nadu</td>\n",
       "      <td>9.0</td>\n",
       "    </tr>\n",
       "  </tbody>\n",
       "</table>\n",
       "<p>98 rows × 5 columns</p>\n",
       "</div>"
      ],
      "text/plain": [
       "    DetectedCity DetectedState      F          DS      M\n",
       "0                          NaN    NaN       Assam    1.0\n",
       "1      Ahmedabad       Gujarat  175.0     Gujarat  376.0\n",
       "2       Amritsar           NaN    NaN      Punjab    2.0\n",
       "3          Anand       Gujarat    3.0     Gujarat    2.0\n",
       "4       Aravalli       Gujarat    7.0     Gujarat   10.0\n",
       "..           ...           ...    ...         ...    ...\n",
       "93      Vaishali         Bihar    1.0         NaN    NaN\n",
       "94        Valsad       Gujarat    1.0     Gujarat    3.0\n",
       "95    Vijayapura     Karnataka   11.0   Karnataka    7.0\n",
       "96    Viluppuram    Tamil Nadu    4.0  Tamil Nadu    3.0\n",
       "97  Virudhunagar    Tamil Nadu    4.0  Tamil Nadu    9.0\n",
       "\n",
       "[98 rows x 5 columns]"
      ]
     },
     "execution_count": 27,
     "metadata": {},
     "output_type": "execute_result"
    }
   ],
   "source": [
    "result"
   ]
  },
  {
   "cell_type": "code",
   "execution_count": 28,
   "metadata": {},
   "outputs": [],
   "source": [
    "\n",
    "isna_DS = result['DetectedState'].isna()\n",
    "l1 = []\n",
    "for i in range(len(result['DetectedState'])):\n",
    "    if isna_DS[i]:\n",
    "        l1.append(result['DS'][i])\n",
    "    else:\n",
    "        l1.append(result['DetectedState'][i])\n"
   ]
  },
  {
   "cell_type": "code",
   "execution_count": 29,
   "metadata": {},
   "outputs": [
    {
     "data": {
      "text/plain": [
       "['Assam',\n",
       " 'Gujarat',\n",
       " 'Punjab',\n",
       " 'Gujarat',\n",
       " 'Gujarat',\n",
       " 'Tamil Nadu',\n",
       " 'Bihar',\n",
       " 'Bihar',\n",
       " 'Karnataka',\n",
       " 'Odisha',\n",
       " 'Gujarat',\n",
       " 'Bihar',\n",
       " 'Karnataka',\n",
       " 'Karnataka',\n",
       " 'Odisha',\n",
       " 'Bihar',\n",
       " 'Gujarat',\n",
       " 'Gujarat',\n",
       " 'Bihar',\n",
       " 'Karnataka',\n",
       " 'Gujarat',\n",
       " 'Bihar',\n",
       " 'Chandigarh',\n",
       " 'Tamil Nadu',\n",
       " 'Tamil Nadu',\n",
       " 'Gujarat',\n",
       " 'Karnataka',\n",
       " 'Tamil Nadu',\n",
       " 'Gujarat',\n",
       " 'Karnataka',\n",
       " 'Gujarat',\n",
       " 'Tamil Nadu',\n",
       " 'Karnataka',\n",
       " 'Tamil Nadu',\n",
       " 'Bihar',\n",
       " 'Karnataka',\n",
       " 'Gujarat',\n",
       " 'Bihar',\n",
       " 'Gujarat',\n",
       " 'Bihar',\n",
       " 'Kerala',\n",
       " 'Odisha',\n",
       " 'Bihar',\n",
       " 'Bihar',\n",
       " 'Karnataka',\n",
       " 'Tamil Nadu',\n",
       " 'Tamil Nadu',\n",
       " 'Kerala',\n",
       " 'Kerala',\n",
       " 'Gujarat',\n",
       " 'Kerala',\n",
       " 'Kerala',\n",
       " 'Kerala',\n",
       " 'Gujarat',\n",
       " 'Bihar',\n",
       " 'Tamil Nadu',\n",
       " 'Gujarat',\n",
       " 'Kerala',\n",
       " 'Karnataka',\n",
       " 'Gujarat',\n",
       " 'Bihar',\n",
       " 'Karnataka',\n",
       " 'Bihar',\n",
       " 'Tamil Nadu',\n",
       " 'Gujarat',\n",
       " 'Kerala',\n",
       " 'Gujarat',\n",
       " 'Bihar',\n",
       " 'Tamil Nadu',\n",
       " 'Puducherry',\n",
       " 'Gujarat',\n",
       " 'Tamil Nadu',\n",
       " 'Jharkhand',\n",
       " 'Bihar',\n",
       " 'Punjab',\n",
       " 'Gujarat',\n",
       " 'Tamil Nadu',\n",
       " 'Bihar',\n",
       " 'Bihar',\n",
       " 'Odisha',\n",
       " 'Gujarat',\n",
       " 'Gujarat',\n",
       " 'Tamil Nadu',\n",
       " 'Tamil Nadu',\n",
       " 'Tamil Nadu',\n",
       " 'Tamil Nadu',\n",
       " 'Tamil Nadu',\n",
       " 'Tamil Nadu',\n",
       " 'Tamil Nadu',\n",
       " 'Tamil Nadu',\n",
       " 'Tamil Nadu',\n",
       " 'Karnataka',\n",
       " 'Gujarat',\n",
       " 'Bihar',\n",
       " 'Gujarat',\n",
       " 'Karnataka',\n",
       " 'Tamil Nadu',\n",
       " 'Tamil Nadu']"
      ]
     },
     "execution_count": 29,
     "metadata": {},
     "output_type": "execute_result"
    }
   ],
   "source": [
    "l1"
   ]
  },
  {
   "cell_type": "code",
   "execution_count": 30,
   "metadata": {},
   "outputs": [],
   "source": [
    "l1 = pd.Series(l1)"
   ]
  },
  {
   "cell_type": "code",
   "execution_count": 31,
   "metadata": {},
   "outputs": [],
   "source": [
    "result['DetectedinState'] = l1"
   ]
  },
  {
   "cell_type": "code",
   "execution_count": 32,
   "metadata": {},
   "outputs": [
    {
     "data": {
      "text/html": [
       "<div>\n",
       "<style scoped>\n",
       "    .dataframe tbody tr th:only-of-type {\n",
       "        vertical-align: middle;\n",
       "    }\n",
       "\n",
       "    .dataframe tbody tr th {\n",
       "        vertical-align: top;\n",
       "    }\n",
       "\n",
       "    .dataframe thead th {\n",
       "        text-align: right;\n",
       "    }\n",
       "</style>\n",
       "<table border=\"1\" class=\"dataframe\">\n",
       "  <thead>\n",
       "    <tr style=\"text-align: right;\">\n",
       "      <th></th>\n",
       "      <th>DetectedCity</th>\n",
       "      <th>DetectedState</th>\n",
       "      <th>F</th>\n",
       "      <th>DS</th>\n",
       "      <th>M</th>\n",
       "      <th>DetectedinState</th>\n",
       "    </tr>\n",
       "  </thead>\n",
       "  <tbody>\n",
       "    <tr>\n",
       "      <th>0</th>\n",
       "      <td></td>\n",
       "      <td>NaN</td>\n",
       "      <td>NaN</td>\n",
       "      <td>Assam</td>\n",
       "      <td>1.0</td>\n",
       "      <td>Assam</td>\n",
       "    </tr>\n",
       "    <tr>\n",
       "      <th>1</th>\n",
       "      <td>Ahmedabad</td>\n",
       "      <td>Gujarat</td>\n",
       "      <td>175.0</td>\n",
       "      <td>Gujarat</td>\n",
       "      <td>376.0</td>\n",
       "      <td>Gujarat</td>\n",
       "    </tr>\n",
       "    <tr>\n",
       "      <th>2</th>\n",
       "      <td>Amritsar</td>\n",
       "      <td>NaN</td>\n",
       "      <td>NaN</td>\n",
       "      <td>Punjab</td>\n",
       "      <td>2.0</td>\n",
       "      <td>Punjab</td>\n",
       "    </tr>\n",
       "    <tr>\n",
       "      <th>3</th>\n",
       "      <td>Anand</td>\n",
       "      <td>Gujarat</td>\n",
       "      <td>3.0</td>\n",
       "      <td>Gujarat</td>\n",
       "      <td>2.0</td>\n",
       "      <td>Gujarat</td>\n",
       "    </tr>\n",
       "    <tr>\n",
       "      <th>4</th>\n",
       "      <td>Aravalli</td>\n",
       "      <td>Gujarat</td>\n",
       "      <td>7.0</td>\n",
       "      <td>Gujarat</td>\n",
       "      <td>10.0</td>\n",
       "      <td>Gujarat</td>\n",
       "    </tr>\n",
       "    <tr>\n",
       "      <th>...</th>\n",
       "      <td>...</td>\n",
       "      <td>...</td>\n",
       "      <td>...</td>\n",
       "      <td>...</td>\n",
       "      <td>...</td>\n",
       "      <td>...</td>\n",
       "    </tr>\n",
       "    <tr>\n",
       "      <th>93</th>\n",
       "      <td>Vaishali</td>\n",
       "      <td>Bihar</td>\n",
       "      <td>1.0</td>\n",
       "      <td>NaN</td>\n",
       "      <td>NaN</td>\n",
       "      <td>Bihar</td>\n",
       "    </tr>\n",
       "    <tr>\n",
       "      <th>94</th>\n",
       "      <td>Valsad</td>\n",
       "      <td>Gujarat</td>\n",
       "      <td>1.0</td>\n",
       "      <td>Gujarat</td>\n",
       "      <td>3.0</td>\n",
       "      <td>Gujarat</td>\n",
       "    </tr>\n",
       "    <tr>\n",
       "      <th>95</th>\n",
       "      <td>Vijayapura</td>\n",
       "      <td>Karnataka</td>\n",
       "      <td>11.0</td>\n",
       "      <td>Karnataka</td>\n",
       "      <td>7.0</td>\n",
       "      <td>Karnataka</td>\n",
       "    </tr>\n",
       "    <tr>\n",
       "      <th>96</th>\n",
       "      <td>Viluppuram</td>\n",
       "      <td>Tamil Nadu</td>\n",
       "      <td>4.0</td>\n",
       "      <td>Tamil Nadu</td>\n",
       "      <td>3.0</td>\n",
       "      <td>Tamil Nadu</td>\n",
       "    </tr>\n",
       "    <tr>\n",
       "      <th>97</th>\n",
       "      <td>Virudhunagar</td>\n",
       "      <td>Tamil Nadu</td>\n",
       "      <td>4.0</td>\n",
       "      <td>Tamil Nadu</td>\n",
       "      <td>9.0</td>\n",
       "      <td>Tamil Nadu</td>\n",
       "    </tr>\n",
       "  </tbody>\n",
       "</table>\n",
       "<p>98 rows × 6 columns</p>\n",
       "</div>"
      ],
      "text/plain": [
       "    DetectedCity DetectedState      F          DS      M DetectedinState\n",
       "0                          NaN    NaN       Assam    1.0           Assam\n",
       "1      Ahmedabad       Gujarat  175.0     Gujarat  376.0         Gujarat\n",
       "2       Amritsar           NaN    NaN      Punjab    2.0          Punjab\n",
       "3          Anand       Gujarat    3.0     Gujarat    2.0         Gujarat\n",
       "4       Aravalli       Gujarat    7.0     Gujarat   10.0         Gujarat\n",
       "..           ...           ...    ...         ...    ...             ...\n",
       "93      Vaishali         Bihar    1.0         NaN    NaN           Bihar\n",
       "94        Valsad       Gujarat    1.0     Gujarat    3.0         Gujarat\n",
       "95    Vijayapura     Karnataka   11.0   Karnataka    7.0       Karnataka\n",
       "96    Viluppuram    Tamil Nadu    4.0  Tamil Nadu    3.0      Tamil Nadu\n",
       "97  Virudhunagar    Tamil Nadu    4.0  Tamil Nadu    9.0      Tamil Nadu\n",
       "\n",
       "[98 rows x 6 columns]"
      ]
     },
     "execution_count": 32,
     "metadata": {},
     "output_type": "execute_result"
    }
   ],
   "source": [
    "result"
   ]
  },
  {
   "cell_type": "code",
   "execution_count": 33,
   "metadata": {},
   "outputs": [],
   "source": [
    "result=result.drop(['DetectedState', 'DS'], axis=1)"
   ]
  },
  {
   "cell_type": "code",
   "execution_count": 34,
   "metadata": {},
   "outputs": [
    {
     "data": {
      "text/html": [
       "<div>\n",
       "<style scoped>\n",
       "    .dataframe tbody tr th:only-of-type {\n",
       "        vertical-align: middle;\n",
       "    }\n",
       "\n",
       "    .dataframe tbody tr th {\n",
       "        vertical-align: top;\n",
       "    }\n",
       "\n",
       "    .dataframe thead th {\n",
       "        text-align: right;\n",
       "    }\n",
       "</style>\n",
       "<table border=\"1\" class=\"dataframe\">\n",
       "  <thead>\n",
       "    <tr style=\"text-align: right;\">\n",
       "      <th></th>\n",
       "      <th>DetectedCity</th>\n",
       "      <th>F</th>\n",
       "      <th>M</th>\n",
       "      <th>DetectedinState</th>\n",
       "    </tr>\n",
       "  </thead>\n",
       "  <tbody>\n",
       "    <tr>\n",
       "      <th>0</th>\n",
       "      <td></td>\n",
       "      <td>NaN</td>\n",
       "      <td>1.0</td>\n",
       "      <td>Assam</td>\n",
       "    </tr>\n",
       "    <tr>\n",
       "      <th>1</th>\n",
       "      <td>Ahmedabad</td>\n",
       "      <td>175.0</td>\n",
       "      <td>376.0</td>\n",
       "      <td>Gujarat</td>\n",
       "    </tr>\n",
       "    <tr>\n",
       "      <th>2</th>\n",
       "      <td>Amritsar</td>\n",
       "      <td>NaN</td>\n",
       "      <td>2.0</td>\n",
       "      <td>Punjab</td>\n",
       "    </tr>\n",
       "    <tr>\n",
       "      <th>3</th>\n",
       "      <td>Anand</td>\n",
       "      <td>3.0</td>\n",
       "      <td>2.0</td>\n",
       "      <td>Gujarat</td>\n",
       "    </tr>\n",
       "    <tr>\n",
       "      <th>4</th>\n",
       "      <td>Aravalli</td>\n",
       "      <td>7.0</td>\n",
       "      <td>10.0</td>\n",
       "      <td>Gujarat</td>\n",
       "    </tr>\n",
       "    <tr>\n",
       "      <th>...</th>\n",
       "      <td>...</td>\n",
       "      <td>...</td>\n",
       "      <td>...</td>\n",
       "      <td>...</td>\n",
       "    </tr>\n",
       "    <tr>\n",
       "      <th>93</th>\n",
       "      <td>Vaishali</td>\n",
       "      <td>1.0</td>\n",
       "      <td>NaN</td>\n",
       "      <td>Bihar</td>\n",
       "    </tr>\n",
       "    <tr>\n",
       "      <th>94</th>\n",
       "      <td>Valsad</td>\n",
       "      <td>1.0</td>\n",
       "      <td>3.0</td>\n",
       "      <td>Gujarat</td>\n",
       "    </tr>\n",
       "    <tr>\n",
       "      <th>95</th>\n",
       "      <td>Vijayapura</td>\n",
       "      <td>11.0</td>\n",
       "      <td>7.0</td>\n",
       "      <td>Karnataka</td>\n",
       "    </tr>\n",
       "    <tr>\n",
       "      <th>96</th>\n",
       "      <td>Viluppuram</td>\n",
       "      <td>4.0</td>\n",
       "      <td>3.0</td>\n",
       "      <td>Tamil Nadu</td>\n",
       "    </tr>\n",
       "    <tr>\n",
       "      <th>97</th>\n",
       "      <td>Virudhunagar</td>\n",
       "      <td>4.0</td>\n",
       "      <td>9.0</td>\n",
       "      <td>Tamil Nadu</td>\n",
       "    </tr>\n",
       "  </tbody>\n",
       "</table>\n",
       "<p>98 rows × 4 columns</p>\n",
       "</div>"
      ],
      "text/plain": [
       "    DetectedCity      F      M DetectedinState\n",
       "0                   NaN    1.0           Assam\n",
       "1      Ahmedabad  175.0  376.0         Gujarat\n",
       "2       Amritsar    NaN    2.0          Punjab\n",
       "3          Anand    3.0    2.0         Gujarat\n",
       "4       Aravalli    7.0   10.0         Gujarat\n",
       "..           ...    ...    ...             ...\n",
       "93      Vaishali    1.0    NaN           Bihar\n",
       "94        Valsad    1.0    3.0         Gujarat\n",
       "95    Vijayapura   11.0    7.0       Karnataka\n",
       "96    Viluppuram    4.0    3.0      Tamil Nadu\n",
       "97  Virudhunagar    4.0    9.0      Tamil Nadu\n",
       "\n",
       "[98 rows x 4 columns]"
      ]
     },
     "execution_count": 34,
     "metadata": {},
     "output_type": "execute_result"
    }
   ],
   "source": [
    "result"
   ]
  },
  {
   "cell_type": "code",
   "execution_count": 35,
   "metadata": {},
   "outputs": [],
   "source": [
    "result.columns = ['DetectedCity','FemaleCount','MaleCount','DetectedState']"
   ]
  },
  {
   "cell_type": "code",
   "execution_count": 36,
   "metadata": {},
   "outputs": [
    {
     "data": {
      "text/html": [
       "<div>\n",
       "<style scoped>\n",
       "    .dataframe tbody tr th:only-of-type {\n",
       "        vertical-align: middle;\n",
       "    }\n",
       "\n",
       "    .dataframe tbody tr th {\n",
       "        vertical-align: top;\n",
       "    }\n",
       "\n",
       "    .dataframe thead th {\n",
       "        text-align: right;\n",
       "    }\n",
       "</style>\n",
       "<table border=\"1\" class=\"dataframe\">\n",
       "  <thead>\n",
       "    <tr style=\"text-align: right;\">\n",
       "      <th></th>\n",
       "      <th>DetectedCity</th>\n",
       "      <th>FemaleCount</th>\n",
       "      <th>MaleCount</th>\n",
       "      <th>DetectedState</th>\n",
       "    </tr>\n",
       "  </thead>\n",
       "  <tbody>\n",
       "    <tr>\n",
       "      <th>0</th>\n",
       "      <td></td>\n",
       "      <td>NaN</td>\n",
       "      <td>1.0</td>\n",
       "      <td>Assam</td>\n",
       "    </tr>\n",
       "    <tr>\n",
       "      <th>1</th>\n",
       "      <td>Ahmedabad</td>\n",
       "      <td>175.0</td>\n",
       "      <td>376.0</td>\n",
       "      <td>Gujarat</td>\n",
       "    </tr>\n",
       "    <tr>\n",
       "      <th>2</th>\n",
       "      <td>Amritsar</td>\n",
       "      <td>NaN</td>\n",
       "      <td>2.0</td>\n",
       "      <td>Punjab</td>\n",
       "    </tr>\n",
       "    <tr>\n",
       "      <th>3</th>\n",
       "      <td>Anand</td>\n",
       "      <td>3.0</td>\n",
       "      <td>2.0</td>\n",
       "      <td>Gujarat</td>\n",
       "    </tr>\n",
       "    <tr>\n",
       "      <th>4</th>\n",
       "      <td>Aravalli</td>\n",
       "      <td>7.0</td>\n",
       "      <td>10.0</td>\n",
       "      <td>Gujarat</td>\n",
       "    </tr>\n",
       "    <tr>\n",
       "      <th>...</th>\n",
       "      <td>...</td>\n",
       "      <td>...</td>\n",
       "      <td>...</td>\n",
       "      <td>...</td>\n",
       "    </tr>\n",
       "    <tr>\n",
       "      <th>93</th>\n",
       "      <td>Vaishali</td>\n",
       "      <td>1.0</td>\n",
       "      <td>NaN</td>\n",
       "      <td>Bihar</td>\n",
       "    </tr>\n",
       "    <tr>\n",
       "      <th>94</th>\n",
       "      <td>Valsad</td>\n",
       "      <td>1.0</td>\n",
       "      <td>3.0</td>\n",
       "      <td>Gujarat</td>\n",
       "    </tr>\n",
       "    <tr>\n",
       "      <th>95</th>\n",
       "      <td>Vijayapura</td>\n",
       "      <td>11.0</td>\n",
       "      <td>7.0</td>\n",
       "      <td>Karnataka</td>\n",
       "    </tr>\n",
       "    <tr>\n",
       "      <th>96</th>\n",
       "      <td>Viluppuram</td>\n",
       "      <td>4.0</td>\n",
       "      <td>3.0</td>\n",
       "      <td>Tamil Nadu</td>\n",
       "    </tr>\n",
       "    <tr>\n",
       "      <th>97</th>\n",
       "      <td>Virudhunagar</td>\n",
       "      <td>4.0</td>\n",
       "      <td>9.0</td>\n",
       "      <td>Tamil Nadu</td>\n",
       "    </tr>\n",
       "  </tbody>\n",
       "</table>\n",
       "<p>98 rows × 4 columns</p>\n",
       "</div>"
      ],
      "text/plain": [
       "    DetectedCity  FemaleCount  MaleCount DetectedState\n",
       "0                         NaN        1.0         Assam\n",
       "1      Ahmedabad        175.0      376.0       Gujarat\n",
       "2       Amritsar          NaN        2.0        Punjab\n",
       "3          Anand          3.0        2.0       Gujarat\n",
       "4       Aravalli          7.0       10.0       Gujarat\n",
       "..           ...          ...        ...           ...\n",
       "93      Vaishali          1.0        NaN         Bihar\n",
       "94        Valsad          1.0        3.0       Gujarat\n",
       "95    Vijayapura         11.0        7.0     Karnataka\n",
       "96    Viluppuram          4.0        3.0    Tamil Nadu\n",
       "97  Virudhunagar          4.0        9.0    Tamil Nadu\n",
       "\n",
       "[98 rows x 4 columns]"
      ]
     },
     "execution_count": 36,
     "metadata": {},
     "output_type": "execute_result"
    }
   ],
   "source": [
    "result"
   ]
  },
  {
   "cell_type": "code",
   "execution_count": 37,
   "metadata": {},
   "outputs": [],
   "source": [
    "result['MaleCount'] = result['MaleCount'].astype('Int64')\n",
    "result['FemaleCount'] = result['FemaleCount'].astype('Int64')"
   ]
  },
  {
   "cell_type": "code",
   "execution_count": 38,
   "metadata": {},
   "outputs": [],
   "source": [
    "import seaborn as sns"
   ]
  },
  {
   "cell_type": "code",
   "execution_count": 39,
   "metadata": {},
   "outputs": [
    {
     "data": {
      "text/plain": [
       "<seaborn.axisgrid.FacetGrid at 0x7f5d7f9b1f70>"
      ]
     },
     "execution_count": 39,
     "metadata": {},
     "output_type": "execute_result"
    },
    {
     "data": {
      "image/png": "[encoded data removed]",
      "text/plain": [
       "<Figure size 360x360 with 1 Axes>"
      ]
     },
     "metadata": {
      "needs_background": "light"
     },
     "output_type": "display_data"
    }
   ],
   "source": [
    "\n",
    "sns.catplot(kind='bar',data=result)"
   ]
  },
  {
   "cell_type": "code",
   "execution_count": null,
   "metadata": {},
   "outputs": [],
   "source": []
  },
  {
   "cell_type": "code",
   "execution_count": 40,
   "metadata": {},
   "outputs": [
    {
     "data": {
      "text/plain": [
       "<matplotlib.axes._subplots.AxesSubplot at 0x7f5d7f8ee6d0>"
      ]
     },
     "execution_count": 40,
     "metadata": {},
     "output_type": "execute_result"
    },
    {
     "data": {
      "image/png": "[encoded data removed]",
      "text/plain": [
       "<Figure size 432x288 with 1 Axes>"
      ]
     },
     "metadata": {
      "needs_background": "light"
     },
     "output_type": "display_data"
    }
   ],
   "source": [
    "sns.barplot(data=result)\n"
   ]
  },
  {
   "cell_type": "code",
   "execution_count": 41,
   "metadata": {},
   "outputs": [
    {
     "data": {
      "text/plain": [
       "<matplotlib.axes._subplots.AxesSubplot at 0x7f5d7f8c19d0>"
      ]
     },
     "execution_count": 41,
     "metadata": {},
     "output_type": "execute_result"
    },
    {
     "data": {
      "image/png": "[encoded data removed]",
      "text/plain": [
       "<Figure size 432x288 with 1 Axes>"
      ]
     },
     "metadata": {
      "needs_background": "light"
     },
     "output_type": "display_data"
    }
   ],
   "source": [
    "sns.categorical.barplot(data=result)\n"
   ]
  },
  {
   "cell_type": "code",
   "execution_count": 43,
   "metadata": {},
   "outputs": [
    {
     "data": {
      "text/plain": [
       "[]"
      ]
     },
     "execution_count": 43,
     "metadata": {},
     "output_type": "execute_result"
    }
   ],
   "source": [
    "sns.choose_dark_palette(True)"
   ]
  },
  {
   "cell_type": "code",
   "execution_count": 42,
   "metadata": {},
   "outputs": [
    {
     "data": {
      "text/plain": [
       "<matplotlib.axes._subplots.AxesSubplot at 0x7f5d7f80ba30>"
      ]
     },
     "execution_count": 42,
     "metadata": {},
     "output_type": "execute_result"
    },
    {
     "data": {
      "image/png": "[encoded data removed]",
      "text/plain": [
       "<Figure size 432x288 with 1 Axes>"
      ]
     },
     "metadata": {
      "needs_background": "light"
     },
     "output_type": "display_data"
    }
   ],
   "source": [
    "sns.boxplot(data=result)"
   ]
  },
  {
   "cell_type": "code",
   "execution_count": 45,
   "metadata": {},
   "outputs": [],
   "source": [
    "result.to_csv('res1.csv')"
   ]
  },
  {
   "cell_type": "code",
   "execution_count": 44,
   "metadata": {},
   "outputs": [],
   "source": [
    "newdf=np.array(result)"
   ]
  },
  {
   "cell_type": "code",
   "execution_count": 45,
   "metadata": {},
   "outputs": [],
   "source": [
    "isna_df = np.array(result.isna())\n",
    "for i in range(len(newdf)):\n",
    "    for j in range(len(newdf[i])):\n",
    "        if isna_df[i][j] :\n",
    "            newdf[i][j] = 0 "
   ]
  },
  {
   "cell_type": "code",
   "execution_count": 46,
   "metadata": {},
   "outputs": [
    {
     "data": {
      "text/plain": [
       "array([['', 0, 1, 'Assam'],\n",
       "       ['Ahmedabad', 175, 376, 'Gujarat'],\n",
       "       ['Amritsar', 0, 2, 'Punjab'],\n",
       "       ['Anand', 3, 2, 'Gujarat'],\n",
       "       ['Aravalli', 7, 10, 'Gujarat'],\n",
       "       ['Ariyalur', 0, 2, 'Tamil Nadu'],\n",
       "       ['Arwal', 0, 4, 'Bihar'],\n",
       "       ['Aurangabad', 0, 2, 'Bihar'],\n",
       "       ['Bagalkote', 0, 3, 'Karnataka'],\n",
       "       ['Balasore', 4, 5, 'Odisha'],\n",
       "       ['Banaskantha', 1, 5, 'Gujarat'],\n",
       "       ['Banka', 0, 2, 'Bihar'],\n",
       "       ['Belagavi', 7, 5, 'Karnataka'],\n",
       "       ['Bengaluru Urban', 7, 37, 'Karnataka'],\n",
       "       ['Bhadrak', 0, 13, 'Odisha'],\n",
       "       ['Bhagalpur', 1, 3, 'Bihar'],\n",
       "       ['Bharuch', 0, 6, 'Gujarat'],\n",
       "       ['Bhavnagar', 0, 1, 'Gujarat'],\n",
       "       ['Bhojpur', 1, 0, 'Bihar'],\n",
       "       ['Bidar', 0, 1, 'Karnataka'],\n",
       "       ['Botad', 2, 4, 'Gujarat'],\n",
       "       ['Buxar', 11, 10, 'Bihar'],\n",
       "       ['Chandigarh', 4, 3, 'Chandigarh'],\n",
       "       ['Chengalpattu', 2, 0, 'Tamil Nadu'],\n",
       "       ['Chennai', 64, 101, 'Tamil Nadu'],\n",
       "       ['Chhota Udaipur', 0, 4, 'Gujarat'],\n",
       "       ['Chikkaballapura', 0, 2, 'Karnataka'],\n",
       "       ['Coimbatore', 4, 3, 'Tamil Nadu'],\n",
       "       ['Dahod', 1, 0, 'Gujarat'],\n",
       "       ['Dakshina Kannada', 4, 0, 'Karnataka'],\n",
       "       ['Dangs', 1, 0, 'Gujarat'],\n",
       "       ['Dharmapuri', 0, 1, 'Tamil Nadu'],\n",
       "       ['Dharwad', 2, 0, 'Karnataka'],\n",
       "       ['Dindigul', 0, 3, 'Tamil Nadu'],\n",
       "       ['East Champaran', 0, 4, 'Bihar'],\n",
       "       ['Gadag', 0, 1, 'Karnataka'],\n",
       "       ['Gandhinagar', 0, 1, 'Gujarat'],\n",
       "       ['Gaya', 0, 1, 'Bihar'],\n",
       "       ['Gir Somnath', 0, 1, 'Gujarat'],\n",
       "       ['Gopalganj', 2, 7, 'Bihar'],\n",
       "       ['Idukki', 2, 2, 'Kerala'],\n",
       "       ['Jajpur', 3, 13, 'Odisha'],\n",
       "       ['Jehanabad', 0, 1, 'Bihar'],\n",
       "       ['Kaimur', 4, 10, 'Bihar'],\n",
       "       ['Kalaburagi', 5, 11, 'Karnataka'],\n",
       "       ['Kallakurichi', 1, 0, 'Tamil Nadu'],\n",
       "       ['Kancheepuram', 4, 5, 'Tamil Nadu'],\n",
       "       ['Kannur', 4, 20, 'Kerala'],\n",
       "       ['Kasaragod', 3, 3, 'Kerala'],\n",
       "       ['Kheda', 1, 2, 'Gujarat'],\n",
       "       ['Kollam', 2, 2, 'Kerala'],\n",
       "       ['Kottayam', 3, 3, 'Kerala'],\n",
       "       ['Kozhikode', 0, 3, 'Kerala'],\n",
       "       ['Kutch', 0, 2, 'Gujarat'],\n",
       "       ['Madhepura', 1, 0, 'Bihar'],\n",
       "       ['Madurai', 7, 22, 'Tamil Nadu'],\n",
       "       ['Mahisagar', 7, 3, 'Gujarat'],\n",
       "       ['Malappuram', 1, 1, 'Kerala'],\n",
       "       ['Mandya', 1, 3, 'Karnataka'],\n",
       "       ['Mehsana', 1, 1, 'Gujarat'],\n",
       "       ['Munger', 30, 18, 'Bihar'],\n",
       "       ['Mysuru', 1, 4, 'Karnataka'],\n",
       "       ['Nalanda', 10, 12, 'Bihar'],\n",
       "       ['Namakkal', 3, 5, 'Tamil Nadu'],\n",
       "       ['Navsari', 0, 1, 'Gujarat'],\n",
       "       ['Palakkad', 0, 4, 'Kerala'],\n",
       "       ['Panchmahal', 3, 0, 'Gujarat'],\n",
       "       ['Patna', 9, 14, 'Bihar'],\n",
       "       ['Perambalur', 0, 2, 'Tamil Nadu'],\n",
       "       ['Puducherry', 0, 1, 'Puducherry'],\n",
       "       ['Rajkot', 4, 1, 'Gujarat'],\n",
       "       ['Ramanathapuram', 2, 2, 'Tamil Nadu'],\n",
       "       ['Ranchi', 1, 0, 'Jharkhand'],\n",
       "       ['Rohtas', 4, 11, 'Bihar'],\n",
       "       ['S.A.S. Nagar', 0, 1, 'Punjab'],\n",
       "       ['Sabarkantha', 0, 1, 'Gujarat'],\n",
       "       ['Salem', 2, 5, 'Tamil Nadu'],\n",
       "       ['Saran', 1, 1, 'Bihar'],\n",
       "       ['Siwan', 0, 1, 'Bihar'],\n",
       "       ['Sundargarh', 1, 3, 'Odisha'],\n",
       "       ['Surat', 68, 146, 'Gujarat'],\n",
       "       ['Tapi', 1, 0, 'Gujarat'],\n",
       "       ['Tenkasi', 5, 2, 'Tamil Nadu'],\n",
       "       ['Thanjavur', 4, 3, 'Tamil Nadu'],\n",
       "       ['Thiruvallur', 2, 3, 'Tamil Nadu'],\n",
       "       ['Thiruvarur', 0, 1, 'Tamil Nadu'],\n",
       "       ['Tiruchirappalli', 0, 1, 'Tamil Nadu'],\n",
       "       ['Tirunelveli', 0, 1, 'Tamil Nadu'],\n",
       "       ['Tirupathur', 1, 0, 'Tamil Nadu'],\n",
       "       ['Tiruppur', 1, 2, 'Tamil Nadu'],\n",
       "       ['Tiruvannamalai', 0, 3, 'Tamil Nadu'],\n",
       "       ['Tumakuru', 0, 1, 'Karnataka'],\n",
       "       ['Vadodara', 16, 19, 'Gujarat'],\n",
       "       ['Vaishali', 1, 0, 'Bihar'],\n",
       "       ['Valsad', 1, 3, 'Gujarat'],\n",
       "       ['Vijayapura', 11, 7, 'Karnataka'],\n",
       "       ['Viluppuram', 4, 3, 'Tamil Nadu'],\n",
       "       ['Virudhunagar', 4, 9, 'Tamil Nadu']], dtype=object)"
      ]
     },
     "execution_count": 46,
     "metadata": {},
     "output_type": "execute_result"
    }
   ],
   "source": [
    "newdf"
   ]
  },
  {
   "cell_type": "code",
   "execution_count": 47,
   "metadata": {},
   "outputs": [],
   "source": [
    "result = pd.DataFrame(newdf)"
   ]
  },
  {
   "cell_type": "code",
   "execution_count": 48,
   "metadata": {},
   "outputs": [
    {
     "data": {
      "text/html": [
       "<div>\n",
       "<style scoped>\n",
       "    .dataframe tbody tr th:only-of-type {\n",
       "        vertical-align: middle;\n",
       "    }\n",
       "\n",
       "    .dataframe tbody tr th {\n",
       "        vertical-align: top;\n",
       "    }\n",
       "\n",
       "    .dataframe thead th {\n",
       "        text-align: right;\n",
       "    }\n",
       "</style>\n",
       "<table border=\"1\" class=\"dataframe\">\n",
       "  <thead>\n",
       "    <tr style=\"text-align: right;\">\n",
       "      <th></th>\n",
       "      <th>0</th>\n",
       "      <th>1</th>\n",
       "      <th>2</th>\n",
       "      <th>3</th>\n",
       "    </tr>\n",
       "  </thead>\n",
       "  <tbody>\n",
       "    <tr>\n",
       "      <th>0</th>\n",
       "      <td></td>\n",
       "      <td>0</td>\n",
       "      <td>1</td>\n",
       "      <td>Assam</td>\n",
       "    </tr>\n",
       "    <tr>\n",
       "      <th>1</th>\n",
       "      <td>Ahmedabad</td>\n",
       "      <td>175</td>\n",
       "      <td>376</td>\n",
       "      <td>Gujarat</td>\n",
       "    </tr>\n",
       "    <tr>\n",
       "      <th>2</th>\n",
       "      <td>Amritsar</td>\n",
       "      <td>0</td>\n",
       "      <td>2</td>\n",
       "      <td>Punjab</td>\n",
       "    </tr>\n",
       "    <tr>\n",
       "      <th>3</th>\n",
       "      <td>Anand</td>\n",
       "      <td>3</td>\n",
       "      <td>2</td>\n",
       "      <td>Gujarat</td>\n",
       "    </tr>\n",
       "    <tr>\n",
       "      <th>4</th>\n",
       "      <td>Aravalli</td>\n",
       "      <td>7</td>\n",
       "      <td>10</td>\n",
       "      <td>Gujarat</td>\n",
       "    </tr>\n",
       "    <tr>\n",
       "      <th>...</th>\n",
       "      <td>...</td>\n",
       "      <td>...</td>\n",
       "      <td>...</td>\n",
       "      <td>...</td>\n",
       "    </tr>\n",
       "    <tr>\n",
       "      <th>93</th>\n",
       "      <td>Vaishali</td>\n",
       "      <td>1</td>\n",
       "      <td>0</td>\n",
       "      <td>Bihar</td>\n",
       "    </tr>\n",
       "    <tr>\n",
       "      <th>94</th>\n",
       "      <td>Valsad</td>\n",
       "      <td>1</td>\n",
       "      <td>3</td>\n",
       "      <td>Gujarat</td>\n",
       "    </tr>\n",
       "    <tr>\n",
       "      <th>95</th>\n",
       "      <td>Vijayapura</td>\n",
       "      <td>11</td>\n",
       "      <td>7</td>\n",
       "      <td>Karnataka</td>\n",
       "    </tr>\n",
       "    <tr>\n",
       "      <th>96</th>\n",
       "      <td>Viluppuram</td>\n",
       "      <td>4</td>\n",
       "      <td>3</td>\n",
       "      <td>Tamil Nadu</td>\n",
       "    </tr>\n",
       "    <tr>\n",
       "      <th>97</th>\n",
       "      <td>Virudhunagar</td>\n",
       "      <td>4</td>\n",
       "      <td>9</td>\n",
       "      <td>Tamil Nadu</td>\n",
       "    </tr>\n",
       "  </tbody>\n",
       "</table>\n",
       "<p>98 rows × 4 columns</p>\n",
       "</div>"
      ],
      "text/plain": [
       "               0    1    2           3\n",
       "0                   0    1       Assam\n",
       "1      Ahmedabad  175  376     Gujarat\n",
       "2       Amritsar    0    2      Punjab\n",
       "3          Anand    3    2     Gujarat\n",
       "4       Aravalli    7   10     Gujarat\n",
       "..           ...  ...  ...         ...\n",
       "93      Vaishali    1    0       Bihar\n",
       "94        Valsad    1    3     Gujarat\n",
       "95    Vijayapura   11    7   Karnataka\n",
       "96    Viluppuram    4    3  Tamil Nadu\n",
       "97  Virudhunagar    4    9  Tamil Nadu\n",
       "\n",
       "[98 rows x 4 columns]"
      ]
     },
     "execution_count": 48,
     "metadata": {},
     "output_type": "execute_result"
    }
   ],
   "source": [
    "result"
   ]
  },
  {
   "cell_type": "code",
   "execution_count": 49,
   "metadata": {},
   "outputs": [],
   "source": [
    "result.columns = ['DetectedDistrict','FemaleCount','MaleCount','DetectedState']"
   ]
  },
  {
   "cell_type": "code",
   "execution_count": 50,
   "metadata": {},
   "outputs": [
    {
     "data": {
      "text/html": [
       "<div>\n",
       "<style scoped>\n",
       "    .dataframe tbody tr th:only-of-type {\n",
       "        vertical-align: middle;\n",
       "    }\n",
       "\n",
       "    .dataframe tbody tr th {\n",
       "        vertical-align: top;\n",
       "    }\n",
       "\n",
       "    .dataframe thead th {\n",
       "        text-align: right;\n",
       "    }\n",
       "</style>\n",
       "<table border=\"1\" class=\"dataframe\">\n",
       "  <thead>\n",
       "    <tr style=\"text-align: right;\">\n",
       "      <th></th>\n",
       "      <th>DetectedDistrict</th>\n",
       "      <th>FemaleCount</th>\n",
       "      <th>MaleCount</th>\n",
       "      <th>DetectedState</th>\n",
       "    </tr>\n",
       "  </thead>\n",
       "  <tbody>\n",
       "    <tr>\n",
       "      <th>0</th>\n",
       "      <td></td>\n",
       "      <td>0</td>\n",
       "      <td>1</td>\n",
       "      <td>Assam</td>\n",
       "    </tr>\n",
       "    <tr>\n",
       "      <th>1</th>\n",
       "      <td>Ahmedabad</td>\n",
       "      <td>175</td>\n",
       "      <td>376</td>\n",
       "      <td>Gujarat</td>\n",
       "    </tr>\n",
       "    <tr>\n",
       "      <th>2</th>\n",
       "      <td>Amritsar</td>\n",
       "      <td>0</td>\n",
       "      <td>2</td>\n",
       "      <td>Punjab</td>\n",
       "    </tr>\n",
       "    <tr>\n",
       "      <th>3</th>\n",
       "      <td>Anand</td>\n",
       "      <td>3</td>\n",
       "      <td>2</td>\n",
       "      <td>Gujarat</td>\n",
       "    </tr>\n",
       "    <tr>\n",
       "      <th>4</th>\n",
       "      <td>Aravalli</td>\n",
       "      <td>7</td>\n",
       "      <td>10</td>\n",
       "      <td>Gujarat</td>\n",
       "    </tr>\n",
       "    <tr>\n",
       "      <th>...</th>\n",
       "      <td>...</td>\n",
       "      <td>...</td>\n",
       "      <td>...</td>\n",
       "      <td>...</td>\n",
       "    </tr>\n",
       "    <tr>\n",
       "      <th>93</th>\n",
       "      <td>Vaishali</td>\n",
       "      <td>1</td>\n",
       "      <td>0</td>\n",
       "      <td>Bihar</td>\n",
       "    </tr>\n",
       "    <tr>\n",
       "      <th>94</th>\n",
       "      <td>Valsad</td>\n",
       "      <td>1</td>\n",
       "      <td>3</td>\n",
       "      <td>Gujarat</td>\n",
       "    </tr>\n",
       "    <tr>\n",
       "      <th>95</th>\n",
       "      <td>Vijayapura</td>\n",
       "      <td>11</td>\n",
       "      <td>7</td>\n",
       "      <td>Karnataka</td>\n",
       "    </tr>\n",
       "    <tr>\n",
       "      <th>96</th>\n",
       "      <td>Viluppuram</td>\n",
       "      <td>4</td>\n",
       "      <td>3</td>\n",
       "      <td>Tamil Nadu</td>\n",
       "    </tr>\n",
       "    <tr>\n",
       "      <th>97</th>\n",
       "      <td>Virudhunagar</td>\n",
       "      <td>4</td>\n",
       "      <td>9</td>\n",
       "      <td>Tamil Nadu</td>\n",
       "    </tr>\n",
       "  </tbody>\n",
       "</table>\n",
       "<p>98 rows × 4 columns</p>\n",
       "</div>"
      ],
      "text/plain": [
       "   DetectedDistrict FemaleCount MaleCount DetectedState\n",
       "0                             0         1         Assam\n",
       "1         Ahmedabad         175       376       Gujarat\n",
       "2          Amritsar           0         2        Punjab\n",
       "3             Anand           3         2       Gujarat\n",
       "4          Aravalli           7        10       Gujarat\n",
       "..              ...         ...       ...           ...\n",
       "93         Vaishali           1         0         Bihar\n",
       "94           Valsad           1         3       Gujarat\n",
       "95       Vijayapura          11         7     Karnataka\n",
       "96       Viluppuram           4         3    Tamil Nadu\n",
       "97     Virudhunagar           4         9    Tamil Nadu\n",
       "\n",
       "[98 rows x 4 columns]"
      ]
     },
     "execution_count": 50,
     "metadata": {},
     "output_type": "execute_result"
    }
   ],
   "source": [
    "result"
   ]
  },
  {
   "cell_type": "code",
   "execution_count": 51,
   "metadata": {},
   "outputs": [],
   "source": [
    "result.to_csv('Static/res1.csv')"
   ]
  },
  {
   "cell_type": "code",
   "execution_count": 53,
   "metadata": {},
   "outputs": [
    {
     "data": {
      "text/plain": [
       "<matplotlib.axes._subplots.AxesSubplot at 0x7f5d7f47c490>"
      ]
     },
     "execution_count": 53,
     "metadata": {},
     "output_type": "execute_result"
    },
    {
     "data": {
      "image/png": "[encoded data removed]",
      "text/plain": [
       "<Figure size 432x288 with 1 Axes>"
      ]
     },
     "metadata": {
      "needs_background": "light"
     },
     "output_type": "display_data"
    }
   ],
   "source": [
    "result.plot(kind='bar')"
   ]
  },
  {
   "cell_type": "code",
   "execution_count": null,
   "metadata": {},
   "outputs": [],
   "source": [
    "result.plot(kind='barh',title='District Wise male female ratio ',figsize=(380))\n"
   ]
  },
  {
   "cell_type": "code",
   "execution_count": 64,
   "metadata": {},
   "outputs": [
    {
     "data": {
      "text/plain": [
       "<matplotlib.axes._subplots.AxesSubplot at 0x7f5d7d3f5790>"
      ]
     },
     "execution_count": 64,
     "metadata": {},
     "output_type": "execute_result"
    },
    {
     "data": {
      "image/png": "[encoded data removed]",
      "text/plain": [
       "<Figure size 432x288 with 1 Axes>"
      ]
     },
     "metadata": {
      "needs_background": "light"
     },
     "output_type": "display_data"
    }
   ],
   "source": [
    "sns.boxenplot(data=result)"
   ]
  },
  {
   "cell_type": "code",
   "execution_count": 58,
   "metadata": {},
   "outputs": [
    {
     "data": {
      "text/plain": [
       "<matplotlib.axes._subplots.AxesSubplot at 0x7f5d7d30f3a0>"
      ]
     },
     "execution_count": 58,
     "metadata": {},
     "output_type": "execute_result"
    },
    {
     "data": {
      "image/png": "[encoded data removed]",
      "text/plain": [
       "<Figure size 432x288 with 1 Axes>"
      ]
     },
     "metadata": {
      "needs_background": "light"
     },
     "output_type": "display_data"
    }
   ],
   "source": [
    "sns.barplot(data=result)\n"
   ]
  },
  {
   "cell_type": "code",
   "execution_count": 59,
   "metadata": {},
   "outputs": [],
   "source": [
    "result=result.set_index('DetectedDistrict')"
   ]
  },
  {
   "cell_type": "code",
   "execution_count": 60,
   "metadata": {},
   "outputs": [
    {
     "data": {
      "text/plain": [
       "<seaborn.axisgrid.FacetGrid at 0x7f5d7d690fa0>"
      ]
     },
     "execution_count": 60,
     "metadata": {},
     "output_type": "execute_result"
    },
    {
     "data": {
      "image/png": "[encoded data removed]",
      "text/plain": [
       "<Figure size 360x360 with 1 Axes>"
      ]
     },
     "metadata": {
      "needs_background": "light"
     },
     "output_type": "display_data"
    }
   ],
   "source": [
    "sns.catplot(kind='bar',data=result)"
   ]
  },
  {
   "cell_type": "code",
   "execution_count": 93,
   "metadata": {},
   "outputs": [
    {
     "ename": "NameError",
     "evalue": "name 'df' is not defined",
     "output_type": "error",
     "traceback": [
      "\u001b[0;31m---------------------------------------------------------------------------\u001b[0m",
      "\u001b[0;31mNameError\u001b[0m                                 Traceback (most recent call last)",
      "\u001b[0;32m<ipython-input-93-1a66fa05416c>\u001b[0m in \u001b[0;36m<module>\u001b[0;34m\u001b[0m\n\u001b[0;32m----> 1\u001b[0;31m \u001b[0mdf\u001b[0m\u001b[0;34m.\u001b[0m\u001b[0mplot\u001b[0m\u001b[0;34m.\u001b[0m\u001b[0mstyle\u001b[0m\u001b[0;34m\u001b[0m\u001b[0;34m\u001b[0m\u001b[0m\n\u001b[0m",
      "\u001b[0;31mNameError\u001b[0m: name 'df' is not defined"
     ]
    }
   ],
   "source": []
  },
  {
   "cell_type": "code",
   "execution_count": 61,
   "metadata": {},
   "outputs": [],
   "source": [
    "from matplotlib import pyplot as plt"
   ]
  },
  {
   "cell_type": "code",
   "execution_count": 62,
   "metadata": {},
   "outputs": [
    {
     "ename": "NameError",
     "evalue": "name 'df' is not defined",
     "output_type": "error",
     "traceback": [
      "\u001b[0;31m---------------------------------------------------------------------------\u001b[0m",
      "\u001b[0;31mNameError\u001b[0m                                 Traceback (most recent call last)",
      "\u001b[0;32m<ipython-input-62-8f43d4742297>\u001b[0m in \u001b[0;36m<module>\u001b[0;34m\u001b[0m\n\u001b[0;32m----> 1\u001b[0;31m \u001b[0mname\u001b[0m \u001b[0;34m=\u001b[0m \u001b[0mlist\u001b[0m\u001b[0;34m(\u001b[0m\u001b[0mdf\u001b[0m\u001b[0;34m[\u001b[0m\u001b[0;34m'DetectedDistrict'\u001b[0m\u001b[0;34m]\u001b[0m\u001b[0;34m)\u001b[0m\u001b[0;34m\u001b[0m\u001b[0;34m\u001b[0m\u001b[0m\n\u001b[0m",
      "\u001b[0;31mNameError\u001b[0m: name 'df' is not defined"
     ]
    }
   ],
   "source": [
    "name = list(df['DetectedDistrict'])"
   ]
  },
  {
   "cell_type": "code",
   "execution_count": null,
   "metadata": {},
   "outputs": [],
   "source": [
    "import pandas as pd"
   ]
  },
  {
   "cell_type": "code",
   "execution_count": 16,
   "metadata": {},
   "outputs": [],
   "source": [
    "df=pd.read_csv('/home/demonster/github/covid19/Static/res1.csv')"
   ]
  },
  {
   "cell_type": "code",
   "execution_count": null,
   "metadata": {},
   "outputs": [],
   "source": [
    "plt.plot(df['MaleCount'],linewidth=2.0)\n",
    "plt.plot(df['FemaleCount'],linewidth=2.0)\n"
   ]
  },
  {
   "cell_type": "code",
   "execution_count": null,
   "metadata": {},
   "outputs": [],
   "source": [
    "df.plot(kind='barh')"
   ]
  },
  {
   "cell_type": "code",
   "execution_count": null,
   "metadata": {},
   "outputs": [],
   "source": [
    "df.set_index('0')"
   ]
  },
  {
   "cell_type": "code",
   "execution_count": null,
   "metadata": {},
   "outputs": [],
   "source": []
  }
 ],
 "metadata": {
  "kernelspec": {
   "display_name": "Python 3",
   "language": "python",
   "name": "python3"
  },
  "language_info": {
   "codemirror_mode": {
    "name": "ipython",
    "version": 3
   },
   "file_extension": ".py",
   "mimetype": "text/x-python",
   "name": "python",
   "nbconvert_exporter": "python",
   "pygments_lexer": "ipython3",
   "version": "3.7.6"
  }
 },
 "nbformat": 4,
 "nbformat_minor": 4
}
